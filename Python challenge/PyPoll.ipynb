{
 "cells": [
  {
   "cell_type": "code",
   "execution_count": 7,
   "id": "67158c40",
   "metadata": {},
   "outputs": [
    {
     "name": "stdout",
     "output_type": "stream",
     "text": [
      "Charles Casper Stockham: 23.049% (85213)Election Results\n",
      "----------------------------\n",
      "Total Votes: 369711\n",
      "----------------------------\n",
      "\n",
      "Diana DeGette: 73.812% (272892)Election Results\n",
      "----------------------------\n",
      "Total Votes: 369711\n",
      "----------------------------\n",
      "\n",
      "Raymon Anthony Doane: 3.139% (11606)\n",
      "----------------------------\n",
      "Winner: Diana DeGette :)\n",
      "Last: Raymon Anthony Doane :(\n",
      "----------------------------\n",
      "\n"
     ]
    }
   ],
   "source": [
    "import csv\n",
    "\n",
    "# Open the CSV file\n",
    "with open('./Resources/election_data.csv') as csvfile:\n",
    "    csvreader = csv.reader(csvfile, delimiter=',')\n",
    "    header = next(csvreader)\n",
    "\n",
    "    # Prepare lists to store data\n",
    "    voter_ids = []\n",
    "    counties = []\n",
    "    candidates = []\n",
    "\n",
    "    # Initialize variables\n",
    "    total_votes = 0\n",
    "    candidate_names = []\n",
    "    candidate_votes = {}\n",
    "    winner_votes = 0\n",
    "    loser_votes = float('inf')\n",
    "    winner = \"\"\n",
    "    loser = \"\"\n",
    "\n",
    "    # Read data into lists\n",
    "    for row in csvreader:\n",
    "        voter_ids.append(row[0])\n",
    "        counties.append(row[1])\n",
    "        candidates.append(row[2])\n",
    "\n",
    "    total_votes = len(voter_ids)\n",
    "\n",
    "    # Find unique candidate names\n",
    "    candidate_names = list(set(candidates))\n",
    "    num_candidates = len(candidate_names)\n",
    "\n",
    "    # Calculate candidate votes and find winner and loser\n",
    "    for candidate_name in candidate_names:\n",
    "        candidate_votes[candidate_name] = candidates.count(candidate_name)\n",
    "        if candidate_votes[candidate_name] > winner_votes:\n",
    "            winner_votes = candidate_votes[candidate_name]\n",
    "            winner = candidate_name\n",
    "        if candidate_votes[candidate_name] < loser_votes:\n",
    "            loser_votes = candidate_votes[candidate_name]\n",
    "            loser = candidate_name\n",
    "\n",
    "    # Generate result lines for each candidate\n",
    "    result_lines = []\n",
    "    for candidate_name in candidate_names:\n",
    "        percentage = (candidate_votes[candidate_name] / total_votes) * 100\n",
    "        result_lines.append(f\"{candidate_name}: {percentage:.3f}% ({candidate_votes[candidate_name]})\")\n",
    "\n",
    "    # Prepare analysis output\n",
    "    analysis = f\"Election Results\\n\" \\\n",
    "               f\"----------------------------\\n\" \\\n",
    "               f\"Total Votes: {total_votes}\\n\" \\\n",
    "               f\"----------------------------\\n\" \\\n",
    "               f\"\\n\".join(result_lines) + \"\\n\" \\\n",
    "               f\"----------------------------\\n\" \\\n",
    "               f\"Winner: {winner} :)\\n\" \\\n",
    "               f\"Last: {loser} :(\\n\" \\\n",
    "               f\"----------------------------\\n\"\n",
    "\n",
    "    # Print analysis on screen\n",
    "    print(analysis)\n",
    "\n",
    "    # Write analysis into a text file named pypoll.txt\n",
    "    with open(\"pypoll.txt\", \"w\") as file1:\n",
    "        file1.write(analysis)\n"
   ]
  },
  {
   "cell_type": "code",
   "execution_count": null,
   "id": "cfc11d81",
   "metadata": {},
   "outputs": [],
   "source": []
  },
  {
   "cell_type": "code",
   "execution_count": null,
   "id": "c7a1cd8b",
   "metadata": {},
   "outputs": [],
   "source": []
  },
  {
   "cell_type": "code",
   "execution_count": null,
   "id": "ea1f6b14",
   "metadata": {},
   "outputs": [],
   "source": []
  },
  {
   "cell_type": "code",
   "execution_count": null,
   "id": "04d3e9b6",
   "metadata": {},
   "outputs": [],
   "source": []
  },
  {
   "cell_type": "code",
   "execution_count": null,
   "id": "ef62b9f3",
   "metadata": {},
   "outputs": [],
   "source": []
  }
 ],
 "metadata": {
  "kernelspec": {
   "display_name": "Python 3 (ipykernel)",
   "language": "python",
   "name": "python3"
  },
  "language_info": {
   "codemirror_mode": {
    "name": "ipython",
    "version": 3
   },
   "file_extension": ".py",
   "mimetype": "text/x-python",
   "name": "python",
   "nbconvert_exporter": "python",
   "pygments_lexer": "ipython3",
   "version": "3.10.9"
  }
 },
 "nbformat": 4,
 "nbformat_minor": 5
}
