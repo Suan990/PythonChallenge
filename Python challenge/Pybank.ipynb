{
 "cells": [
  {
   "cell_type": "code",
   "execution_count": 4,
   "id": "f67557e2",
   "metadata": {},
   "outputs": [
    {
     "name": "stdout",
     "output_type": "stream",
     "text": [
      "Financial Analysis\n",
      "----------------------------\n",
      "Total Months: 86\n",
      "Total Amount: $22564198\n",
      "Average Change: $-8311.11\n",
      "Greatest Increase in Profits: Aug-16 ($1862002)\n",
      "Greatest Decrease in Profits: Feb-14 ($-1825558)\n",
      "\n"
     ]
    }
   ],
   "source": [
    "import csv\n",
    "\n",
    "# Open the CSV file\n",
    "with open('./Resources/budget_data.csv') as csvfile:\n",
    "    csvreader = csv.reader(csvfile, delimiter=',')\n",
    "    header = next(csvreader)\n",
    "\n",
    "    # Initialize lists and variables\n",
    "    months = []\n",
    "    prolosses = []\n",
    "    total = 0\n",
    "    a_change = 0\n",
    "    m_change = 0\n",
    "    delta1 = 0\n",
    "    delta2 = 0\n",
    "    delta_line1 = 0\n",
    "    delta_line2 = 0\n",
    "\n",
    "    # Read data into lists\n",
    "    for row in csvreader:\n",
    "        months.append(row[0])\n",
    "        prolosses.append(int(row[1]))\n",
    "    \n",
    "    m_count = len(months)\n",
    "    \n",
    "    # Calculate total amount\n",
    "    for value in prolosses:\n",
    "        total += value\n",
    "\n",
    "    # Calculate sum of changes and find greatest increase/decrease\n",
    "    for i in range(m_count - 1):\n",
    "        m_change = prolosses[i + 1] - prolosses[i]\n",
    "        a_change += m_change\n",
    "\n",
    "        if m_change > delta1:\n",
    "            delta1 = m_change\n",
    "            delta_line1 = i\n",
    "        if m_change < delta2:\n",
    "            delta2 = m_change\n",
    "            delta_line2 = i\n",
    "\n",
    "    # Calculate average change\n",
    "    average_change = a_change / (m_count - 1)\n",
    "\n",
    "    # Generate analysis output\n",
    "    analysis = f'Financial Analysis\\n' \\\n",
    "               f'----------------------------\\n' \\\n",
    "               f'Total Months: {m_count}\\n' \\\n",
    "               f'Total Amount: ${total}\\n' \\\n",
    "               f'Average Change: ${round(average_change, 2)}\\n' \\\n",
    "               f'Greatest Increase in Profits: {months[delta_line1 + 1]} (${int(delta1)})\\n' \\\n",
    "               f'Greatest Decrease in Profits: {months[delta_line2 + 1]} (${int(delta2)})\\n'\n",
    "\n",
    "    # Print analysis on screen\n",
    "    print(analysis)\n",
    "\n",
    "    # Write analysis into a text file named pybank.txt\n",
    "    with open(\"pybank.txt\", \"w\") as file1:\n",
    "        file1.writelines(analysis)"
   ]
  },
  {
   "cell_type": "code",
   "execution_count": null,
   "id": "4e98d70c",
   "metadata": {},
   "outputs": [],
   "source": []
  }
 ],
 "metadata": {
  "kernelspec": {
   "display_name": "Python 3 (ipykernel)",
   "language": "python",
   "name": "python3"
  },
  "language_info": {
   "codemirror_mode": {
    "name": "ipython",
    "version": 3
   },
   "file_extension": ".py",
   "mimetype": "text/x-python",
   "name": "python",
   "nbconvert_exporter": "python",
   "pygments_lexer": "ipython3",
   "version": "3.10.9"
  }
 },
 "nbformat": 4,
 "nbformat_minor": 5
}
